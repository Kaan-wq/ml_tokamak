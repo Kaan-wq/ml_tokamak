{
 "cells": [
  {
   "cell_type": "markdown",
   "metadata": {
    "id": "view-in-github",
    "colab_type": "text"
   },
   "source": [
    "<a href=\"https://colab.research.google.com/github/Kaan-wq/ml_tokamak/blob/main/RNN.ipynb\" target=\"_parent\"><img src=\"https://colab.research.google.com/assets/colab-badge.svg\" alt=\"Open In Colab\"/></a>"
   ]
  },
  {
   "cell_type": "code",
   "execution_count": 1,
   "metadata": {
    "colab": {
     "base_uri": "https://localhost:8080/"
    },
    "id": "wnJP6X6bVhZQ",
    "outputId": "a0ece7f3-2c46-46ec-ce61-2bb5594cb9c6"
   },
   "outputs": [
    {
     "ename": "ModuleNotFoundError",
     "evalue": "No module named 'tensorflow'",
     "output_type": "error",
     "traceback": [
      "\u001B[0;31m---------------------------------------------------------------------------\u001B[0m",
      "\u001B[0;31mModuleNotFoundError\u001B[0m                       Traceback (most recent call last)",
      "Cell \u001B[0;32mIn[1], line 11\u001B[0m\n\u001B[1;32m      9\u001B[0m \u001B[38;5;28;01mfrom\u001B[39;00m \u001B[38;5;21;01mtyping\u001B[39;00m \u001B[38;5;28;01mimport\u001B[39;00m Iterable\n\u001B[1;32m     10\u001B[0m \u001B[38;5;28;01mimport\u001B[39;00m \u001B[38;5;21;01mpickle\u001B[39;00m\n\u001B[0;32m---> 11\u001B[0m \u001B[38;5;28;01mimport\u001B[39;00m \u001B[38;5;21;01mtensorflow\u001B[39;00m \u001B[38;5;28;01mas\u001B[39;00m \u001B[38;5;21;01mtf\u001B[39;00m\n\u001B[1;32m     13\u001B[0m get_ipython()\u001B[38;5;241m.\u001B[39msystem(\u001B[38;5;124m'\u001B[39m\u001B[38;5;124mpip install tensorflow_addons\u001B[39m\u001B[38;5;124m'\u001B[39m)\n\u001B[1;32m     14\u001B[0m get_ipython()\u001B[38;5;241m.\u001B[39msystem(\u001B[38;5;124m'\u001B[39m\u001B[38;5;124mpip install keras-tuner -q\u001B[39m\u001B[38;5;124m'\u001B[39m)\n",
      "\u001B[0;31mModuleNotFoundError\u001B[0m: No module named 'tensorflow'"
     ]
    }
   ],
   "source": [
    "import math\n",
    "import pandas as pd\n",
    "import matplotlib.pyplot as plt\n",
    "from mpl_toolkits.mplot3d import Axes3D\n",
    "import matplotlib.patches as mpatches\n",
    "import os\n",
    "import glob\n",
    "import numpy as np\n",
    "from typing import Iterable\n",
    "import pickle\n",
    "import tensorflow as tf\n",
    "\n",
    "!pip install tensorflow_addons\n",
    "!pip install keras-tuner -q\n",
    "\n",
    "import keras\n",
    "import keras_tuner as kt\n",
    "from kerastuner import RandomSearch\n",
    "import tensorflow_addons as tfa\n",
    "from sklearn.model_selection import train_test_split\n",
    "from sklearn.preprocessing import StandardScaler\n",
    "from tensorflow.keras.utils import to_categorical\n",
    "from tensorflow.keras.models import Sequential\n",
    "from tensorflow.keras.layers import Dense"
   ]
  },
  {
   "cell_type": "markdown",
   "source": [
    "#**I - Preprocessing of the data**\n",
    "\n",
    "Below is the preprocessing pipeline of the data. \\\\\n",
    "Essentially, we feature engineer a few columns, normalize the data and finally, we split it into a training and testing set."
   ],
   "metadata": {
    "id": "bQP6rlcxyQe4"
   }
  },
  {
   "cell_type": "code",
   "execution_count": null,
   "metadata": {
    "id": "louv_dDDVk0h"
   },
   "outputs": [],
   "source": [
    "# load dataset using pickle\n",
    "import pickle\n",
    "with open(\"../data/dataset_disruption_characterization.pickle\", \"rb\") as f:\n",
    "    dataset = pickle.load(f)"
   ]
  },
  {
   "cell_type": "markdown",
   "source": [
    "Here we load the data from the drive and put it into a more practical **data structure**. \\\\\n",
    "We add a column <code>['IPE']</code> which represents the current difference between the reference and actual currents."
   ],
   "metadata": {
    "id": "ME0mg-qbzWRC"
   }
  },
  {
   "cell_type": "code",
   "execution_count": null,
   "metadata": {
    "colab": {
     "base_uri": "https://localhost:8080/"
    },
    "id": "xhsprZ_wi8-9",
    "outputId": "d5174662-eeb9-418f-dac6-4c8dd96406f0"
   },
   "outputs": [
    {
     "output_type": "stream",
     "name": "stdout",
     "text": [
      "One point in the time series :\n",
      "[ 1.95124825e+06  1.99950000e+06  1.95838574e+03  2.76184231e-02\n",
      "  1.24208093e+00  4.13856077e+00  3.51704687e-01 -3.66213632e+00\n",
      "  4.82517500e+04  9.08199978e+00  0.00000000e+00]\n"
     ]
    }
   ],
   "source": [
    "df_data = []\n",
    "\n",
    "# Loop through each entry in the dataset\n",
    "for i, entry in enumerate(dataset):\n",
    "    # Extract data and label from the current entry\n",
    "    d = entry['x']\n",
    "    label = entry['y']\n",
    "    metadata = entry['metadata']\n",
    "    event = metadata['time_event']\n",
    "\n",
    "    # Create a DataFrame for the current entry\n",
    "    df = pd.DataFrame(d['data'], columns=d['columns'])\n",
    "    df['IPE'] = np.abs(df['IPLA'] - df['IPref'])\n",
    "    df['Time'] = d['time']\n",
    "\n",
    "    if event:\n",
    "      #Find closest points to time_event\n",
    "      differences = np.abs(df['Time'] - event)\n",
    "      closest_indices = np.argsort(differences)[:15]\n",
    "\n",
    "      #Assign labels to closest points\n",
    "      df['Close'] = 0\n",
    "      df.loc[closest_indices, 'Close'] = 1\n",
    "    else:\n",
    "      df['Close'] = 0\n",
    "\n",
    "    contains_nan = df.isna().any().any()\n",
    "\n",
    "    if not contains_nan:\n",
    "      df_data.append([df.values, label])\n",
    "\n",
    "print(\"One point in the time series :\")\n",
    "print(df_data[1][0][19])"
   ]
  },
  {
   "cell_type": "markdown",
   "source": [
    "We **normalize and split** into training and test sets before feeding it into our **Neural Network**."
   ],
   "metadata": {
    "id": "Y6qCEtg82u00"
   }
  },
  {
   "cell_type": "code",
   "execution_count": null,
   "metadata": {
    "colab": {
     "base_uri": "https://localhost:8080/"
    },
    "id": "g_qkjUMio62W",
    "outputId": "b64a966a-28d5-4d12-9bdc-71ee80c79bcc"
   },
   "outputs": [
    {
     "output_type": "stream",
     "name": "stdout",
     "text": [
      "One point in the normalized time series :\n",
      "[ 0.01234431  0.         -0.50029967 -0.48162395 -1.73205081 -1.73205081\n",
      " -1.73205081 -2.89745484 -0.01234431  1.64745696  0.        ]\n"
     ]
    }
   ],
   "source": [
    "# Normalized data\n",
    "df_norm = []\n",
    "\n",
    "# Initialize a scaler\n",
    "scaler = StandardScaler()\n",
    "\n",
    "for series, label in df_data:\n",
    "    # Apply normalization to each time series\n",
    "    series_normalized = scaler.fit_transform(series[:, :])\n",
    "\n",
    "    # Append the normalized series and the label\n",
    "    df_norm.append([series_normalized, label])\n",
    "\n",
    "print(\"One point in the normalized time series :\")\n",
    "print(df_norm[1][0][19])"
   ]
  },
  {
   "cell_type": "code",
   "source": [
    "# Separate the features and labels\n",
    "features, labels = zip(*df_norm)\n",
    "\n",
    "# Convert to numpy\n",
    "features = np.array(features)\n",
    "labels = np.array(labels)\n",
    "\n",
    "# One-hot encode the labels\n",
    "labels = to_categorical(labels, num_classes=3)\n",
    "\n",
    "# Split the data into training and test sets\n",
    "X_train, X_test, y_train, y_test = train_test_split(features, labels, test_size=0.2, random_state=42)"
   ],
   "metadata": {
    "id": "D_yV8qBJ8rG0"
   },
   "execution_count": null,
   "outputs": []
  },
  {
   "cell_type": "markdown",
   "source": [
    "#**II - Model tuning**\n",
    "\n",
    "Here we use the hyperparamter tuner from keras to find the best model architecture."
   ],
   "metadata": {
    "id": "_Z-zSjmr3ABP"
   }
  },
  {
   "cell_type": "code",
   "execution_count": null,
   "metadata": {
    "colab": {
     "base_uri": "https://localhost:8080/"
    },
    "id": "HngMK-Dgv6VR",
    "outputId": "0d1920fc-2b04-4c51-9b96-792cad889ad7"
   },
   "outputs": [
    {
     "output_type": "stream",
     "name": "stdout",
     "text": [
      "Trial 10 Complete [00h 00m 24s]\n",
      "val_loss: 0.10173686593770981\n",
      "\n",
      "Best val_loss So Far: 0.09573870897293091\n",
      "Total elapsed time: 00h 14m 29s\n"
     ]
    }
   ],
   "source": [
    "def build_model(hp):\n",
    "    model = keras.Sequential()\n",
    "\n",
    "    model.add(keras.Input(shape=(X_train[0].shape)))\n",
    "\n",
    "    # LSTM layers\n",
    "    for i in range(hp.Int('num_lstm_layers', 1, 3)):\n",
    "        # For the last LSTM layer, set return_sequences=False\n",
    "        if i == hp.Int('num_lstm_layers', 1, 3) - 1:\n",
    "            model.add(keras.layers.LSTM(units=hp.Int('lstm_units_' + str(i), min_value=32, max_value=512, step=32), return_sequences=False))\n",
    "        else:\n",
    "            model.add(keras.layers.LSTM(units=hp.Int('lstm_units_' + str(i), min_value=32, max_value=512, step=32), return_sequences=True))\n",
    "\n",
    "    # Dense layers\n",
    "    for i in range(hp.Int('num_dense_layers', 1, 3)):\n",
    "        model.add(keras.layers.Dense(units=hp.Int('dense_units_' + str(i), min_value=32, max_value=512, step=32), activation='relu'))\n",
    "\n",
    "    model.add(keras.layers.Dense(3, activation='softmax'))  # Output layer\n",
    "\n",
    "    # Tune the learning rate for the optimizer\n",
    "    hp_learning_rate = hp.Choice('learning_rate', values=[1e-2, 1e-3, 1e-4])\n",
    "\n",
    "    # Compile the model\n",
    "    model.compile(loss='categorical_crossentropy',\n",
    "                  optimizer=keras.optimizers.Adam(learning_rate=hp_learning_rate),\n",
    "                  metrics=['accuracy', tfa.metrics.F1Score(num_classes=3, average=None)]\n",
    "                  )\n",
    "\n",
    "    return model\n",
    "\n",
    "\n",
    "tuner = RandomSearch(\n",
    "    build_model,\n",
    "    objective='val_loss',\n",
    "    max_trials=10,  # number of model configurations to try\n",
    "    executions_per_trial=1,  # number of models that should be built and fit for each trial\n",
    "    directory='my_dir0',\n",
    "    project_name='helloworld')\n",
    "\n",
    "\n",
    "tuner.search(X_train, y_train,\n",
    "             epochs=100,\n",
    "             validation_data=(X_test, y_test))"
   ]
  },
  {
   "cell_type": "code",
   "execution_count": null,
   "metadata": {
    "colab": {
     "base_uri": "https://localhost:8080/"
    },
    "id": "YQBtYmz3pblE",
    "outputId": "13054a93-be16-4407-9d87-f5e73da03401"
   },
   "outputs": [
    {
     "output_type": "stream",
     "name": "stdout",
     "text": [
      "Model: \"sequential\"\n",
      "_________________________________________________________________\n",
      " Layer (type)                Output Shape              Param #   \n",
      "=================================================================\n",
      " lstm (LSTM)                 (None, 448)               824320    \n",
      "                                                                 \n",
      " dense (Dense)               (None, 384)               172416    \n",
      "                                                                 \n",
      " dense_1 (Dense)             (None, 3)                 1155      \n",
      "                                                                 \n",
      "=================================================================\n",
      "Total params: 997891 (3.81 MB)\n",
      "Trainable params: 997891 (3.81 MB)\n",
      "Non-trainable params: 0 (0.00 Byte)\n",
      "_________________________________________________________________\n"
     ]
    }
   ],
   "source": [
    "# Get the best models.\n",
    "models = tuner.get_best_models(num_models=2)\n",
    "best_model = models[0]\n",
    "\n",
    "best_model.build(input_shape=X_train.shape)\n",
    "\n",
    "# Architecture of the best model\n",
    "best_model.summary()"
   ]
  },
  {
   "cell_type": "code",
   "execution_count": null,
   "metadata": {
    "colab": {
     "base_uri": "https://localhost:8080/"
    },
    "id": "yceGeHeTqCrr",
    "outputId": "82d12aa8-e77e-4593-924b-e60d82ab0ac9"
   },
   "outputs": [
    {
     "output_type": "stream",
     "name": "stdout",
     "text": [
      "6/6 [==============================] - 1s 7ms/step - loss: 0.0957 - accuracy: 0.9611 - f1_score: 0.8477\n",
      "F1 Scores for test set: [array([1.        , 0.9113924 , 0.63157904], dtype=float32)]\n"
     ]
    }
   ],
   "source": [
    "# Evaluate the model on the test set\n",
    "scores = best_model.evaluate(X_test, y_test)\n",
    "f1_scores = scores[2:]\n",
    "print(f\"F1 Scores for test set: {f1_scores}\")"
   ]
  },
  {
   "cell_type": "code",
   "execution_count": null,
   "metadata": {
    "colab": {
     "base_uri": "https://localhost:8080/"
    },
    "id": "-1OEcw3gxHRv",
    "outputId": "857dddd9-4aa2-4386-f735-78d56ba74e10"
   },
   "outputs": [
    {
     "output_type": "stream",
     "name": "stdout",
     "text": [
      "Epoch 1/100\n",
      "23/23 [==============================] - 2s 11ms/step - loss: 0.0410 - accuracy: 0.9847 - f1_score: 0.9427 - val_loss: 0.1113 - val_accuracy: 0.9556 - val_f1_score: 0.8325\n",
      "Epoch 2/100\n",
      "23/23 [==============================] - 0s 9ms/step - loss: 0.0379 - accuracy: 0.9889 - f1_score: 0.9587 - val_loss: 0.1091 - val_accuracy: 0.9556 - val_f1_score: 0.8325\n",
      "Epoch 3/100\n",
      "23/23 [==============================] - 0s 9ms/step - loss: 0.0359 - accuracy: 0.9847 - f1_score: 0.9416 - val_loss: 0.1024 - val_accuracy: 0.9611 - val_f1_score: 0.8477\n",
      "Epoch 4/100\n",
      "23/23 [==============================] - 0s 9ms/step - loss: 0.0345 - accuracy: 0.9889 - f1_score: 0.9579 - val_loss: 0.1260 - val_accuracy: 0.9556 - val_f1_score: 0.8325\n",
      "Epoch 5/100\n",
      "23/23 [==============================] - 0s 8ms/step - loss: 0.0329 - accuracy: 0.9861 - f1_score: 0.9494 - val_loss: 0.1054 - val_accuracy: 0.9667 - val_f1_score: 0.8639\n",
      "Epoch 6/100\n",
      "23/23 [==============================] - 0s 8ms/step - loss: 0.0339 - accuracy: 0.9847 - f1_score: 0.9416 - val_loss: 0.1014 - val_accuracy: 0.9500 - val_f1_score: 0.8274\n",
      "Epoch 7/100\n",
      "23/23 [==============================] - 0s 8ms/step - loss: 0.0344 - accuracy: 0.9875 - f1_score: 0.9531 - val_loss: 0.1052 - val_accuracy: 0.9556 - val_f1_score: 0.8426\n",
      "Epoch 8/100\n",
      "23/23 [==============================] - 0s 8ms/step - loss: 0.0366 - accuracy: 0.9861 - f1_score: 0.9452 - val_loss: 0.1068 - val_accuracy: 0.9611 - val_f1_score: 0.8775\n",
      "Epoch 9/100\n",
      "23/23 [==============================] - 0s 8ms/step - loss: 0.0336 - accuracy: 0.9903 - f1_score: 0.9635 - val_loss: 0.1149 - val_accuracy: 0.9556 - val_f1_score: 0.8426\n",
      "Epoch 10/100\n",
      "23/23 [==============================] - 0s 8ms/step - loss: 0.0355 - accuracy: 0.9833 - f1_score: 0.9381 - val_loss: 0.1739 - val_accuracy: 0.9444 - val_f1_score: 0.7816\n",
      "Epoch 11/100\n",
      "23/23 [==============================] - 0s 8ms/step - loss: 0.0402 - accuracy: 0.9833 - f1_score: 0.9356 - val_loss: 0.1283 - val_accuracy: 0.9500 - val_f1_score: 0.8274\n",
      "Epoch 12/100\n",
      "23/23 [==============================] - 0s 7ms/step - loss: 0.0320 - accuracy: 0.9861 - f1_score: 0.9484 - val_loss: 0.1252 - val_accuracy: 0.9500 - val_f1_score: 0.8274\n",
      "Epoch 13/100\n",
      "23/23 [==============================] - 0s 8ms/step - loss: 0.0310 - accuracy: 0.9889 - f1_score: 0.9579 - val_loss: 0.1188 - val_accuracy: 0.9500 - val_f1_score: 0.8274\n",
      "Epoch 14/100\n",
      "23/23 [==============================] - 0s 8ms/step - loss: 0.0298 - accuracy: 0.9861 - f1_score: 0.9494 - val_loss: 0.1358 - val_accuracy: 0.9500 - val_f1_score: 0.8274\n",
      "Epoch 15/100\n",
      "23/23 [==============================] - 0s 7ms/step - loss: 0.0307 - accuracy: 0.9861 - f1_score: 0.9484 - val_loss: 0.1445 - val_accuracy: 0.9556 - val_f1_score: 0.8426\n",
      "Epoch 16/100\n",
      "23/23 [==============================] - 0s 8ms/step - loss: 0.0331 - accuracy: 0.9847 - f1_score: 0.9438 - val_loss: 0.1522 - val_accuracy: 0.9667 - val_f1_score: 0.8763\n",
      "Epoch 17/100\n",
      "23/23 [==============================] - 0s 8ms/step - loss: 0.0313 - accuracy: 0.9861 - f1_score: 0.9484 - val_loss: 0.1225 - val_accuracy: 0.9611 - val_f1_score: 0.8775\n",
      "Epoch 18/100\n",
      "23/23 [==============================] - 0s 8ms/step - loss: 0.0368 - accuracy: 0.9833 - f1_score: 0.9369 - val_loss: 0.1294 - val_accuracy: 0.9611 - val_f1_score: 0.8775\n",
      "Epoch 19/100\n",
      "23/23 [==============================] - 0s 8ms/step - loss: 0.0315 - accuracy: 0.9875 - f1_score: 0.9531 - val_loss: 0.1113 - val_accuracy: 0.9611 - val_f1_score: 0.8775\n",
      "Epoch 20/100\n",
      "23/23 [==============================] - 0s 8ms/step - loss: 0.0291 - accuracy: 0.9889 - f1_score: 0.9579 - val_loss: 0.1239 - val_accuracy: 0.9667 - val_f1_score: 0.8937\n",
      "Epoch 21/100\n",
      "23/23 [==============================] - 0s 8ms/step - loss: 0.0293 - accuracy: 0.9875 - f1_score: 0.9548 - val_loss: 0.1332 - val_accuracy: 0.9500 - val_f1_score: 0.8274\n",
      "Epoch 22/100\n",
      "23/23 [==============================] - 0s 7ms/step - loss: 0.0277 - accuracy: 0.9889 - f1_score: 0.9579 - val_loss: 0.1432 - val_accuracy: 0.9500 - val_f1_score: 0.8274\n",
      "Epoch 23/100\n",
      "23/23 [==============================] - 0s 8ms/step - loss: 0.0265 - accuracy: 0.9875 - f1_score: 0.9548 - val_loss: 0.1271 - val_accuracy: 0.9667 - val_f1_score: 0.8937\n",
      "Epoch 24/100\n",
      "23/23 [==============================] - 0s 8ms/step - loss: 0.0334 - accuracy: 0.9875 - f1_score: 0.9522 - val_loss: 0.1300 - val_accuracy: 0.9611 - val_f1_score: 0.8775\n",
      "Epoch 25/100\n",
      "23/23 [==============================] - 0s 8ms/step - loss: 0.0323 - accuracy: 0.9889 - f1_score: 0.9595 - val_loss: 0.1171 - val_accuracy: 0.9667 - val_f1_score: 0.8937\n",
      "Epoch 26/100\n",
      "23/23 [==============================] - 0s 8ms/step - loss: 0.0327 - accuracy: 0.9861 - f1_score: 0.9474 - val_loss: 0.1899 - val_accuracy: 0.9556 - val_f1_score: 0.8426\n",
      "Epoch 27/100\n",
      "23/23 [==============================] - 0s 8ms/step - loss: 0.0256 - accuracy: 0.9903 - f1_score: 0.9642 - val_loss: 0.1534 - val_accuracy: 0.9556 - val_f1_score: 0.8426\n",
      "Epoch 28/100\n",
      "23/23 [==============================] - 0s 8ms/step - loss: 0.0260 - accuracy: 0.9889 - f1_score: 0.9579 - val_loss: 0.1376 - val_accuracy: 0.9611 - val_f1_score: 0.8775\n",
      "Epoch 29/100\n",
      "23/23 [==============================] - 0s 8ms/step - loss: 0.0261 - accuracy: 0.9889 - f1_score: 0.9602 - val_loss: 0.1938 - val_accuracy: 0.9500 - val_f1_score: 0.8367\n",
      "Epoch 30/100\n",
      "23/23 [==============================] - 0s 8ms/step - loss: 0.0264 - accuracy: 0.9889 - f1_score: 0.9587 - val_loss: 0.1367 - val_accuracy: 0.9611 - val_f1_score: 0.8775\n",
      "Epoch 31/100\n",
      "23/23 [==============================] - 0s 8ms/step - loss: 0.0264 - accuracy: 0.9861 - f1_score: 0.9484 - val_loss: 0.1570 - val_accuracy: 0.9500 - val_f1_score: 0.8274\n",
      "Epoch 32/100\n",
      "23/23 [==============================] - 0s 8ms/step - loss: 0.0272 - accuracy: 0.9861 - f1_score: 0.9494 - val_loss: 0.1410 - val_accuracy: 0.9611 - val_f1_score: 0.8775\n",
      "Epoch 33/100\n",
      "23/23 [==============================] - 0s 11ms/step - loss: 0.0269 - accuracy: 0.9889 - f1_score: 0.9587 - val_loss: 0.1606 - val_accuracy: 0.9556 - val_f1_score: 0.8426\n",
      "Epoch 34/100\n",
      "23/23 [==============================] - 0s 8ms/step - loss: 0.0251 - accuracy: 0.9944 - f1_score: 0.9801 - val_loss: 0.2584 - val_accuracy: 0.9389 - val_f1_score: 0.7843\n",
      "Epoch 35/100\n",
      "23/23 [==============================] - 0s 8ms/step - loss: 0.0292 - accuracy: 0.9833 - f1_score: 0.9356 - val_loss: 0.1801 - val_accuracy: 0.9556 - val_f1_score: 0.8426\n",
      "Epoch 36/100\n",
      "23/23 [==============================] - 0s 8ms/step - loss: 0.0266 - accuracy: 0.9875 - f1_score: 0.9540 - val_loss: 0.1523 - val_accuracy: 0.9611 - val_f1_score: 0.8775\n",
      "Epoch 37/100\n",
      "23/23 [==============================] - 0s 12ms/step - loss: 0.0267 - accuracy: 0.9861 - f1_score: 0.9484 - val_loss: 0.1304 - val_accuracy: 0.9611 - val_f1_score: 0.8775\n",
      "Epoch 38/100\n",
      "23/23 [==============================] - 0s 8ms/step - loss: 0.0250 - accuracy: 0.9889 - f1_score: 0.9587 - val_loss: 0.1563 - val_accuracy: 0.9611 - val_f1_score: 0.8775\n",
      "Epoch 39/100\n",
      "23/23 [==============================] - 0s 8ms/step - loss: 0.0297 - accuracy: 0.9847 - f1_score: 0.9438 - val_loss: 0.1438 - val_accuracy: 0.9611 - val_f1_score: 0.8775\n",
      "Epoch 40/100\n",
      "23/23 [==============================] - 0s 8ms/step - loss: 0.0307 - accuracy: 0.9889 - f1_score: 0.9609 - val_loss: 0.2492 - val_accuracy: 0.9556 - val_f1_score: 0.8426\n",
      "Epoch 41/100\n",
      "23/23 [==============================] - 0s 10ms/step - loss: 0.0262 - accuracy: 0.9875 - f1_score: 0.9540 - val_loss: 0.1639 - val_accuracy: 0.9556 - val_f1_score: 0.8426\n",
      "Epoch 42/100\n",
      "23/23 [==============================] - 0s 8ms/step - loss: 0.0267 - accuracy: 0.9889 - f1_score: 0.9595 - val_loss: 0.1569 - val_accuracy: 0.9500 - val_f1_score: 0.8274\n",
      "Epoch 43/100\n",
      "23/23 [==============================] - 0s 8ms/step - loss: 0.0285 - accuracy: 0.9861 - f1_score: 0.9474 - val_loss: 0.1441 - val_accuracy: 0.9611 - val_f1_score: 0.8775\n",
      "Epoch 44/100\n",
      "23/23 [==============================] - 0s 8ms/step - loss: 0.0303 - accuracy: 0.9861 - f1_score: 0.9494 - val_loss: 0.1693 - val_accuracy: 0.9556 - val_f1_score: 0.8426\n",
      "Epoch 45/100\n",
      "23/23 [==============================] - 0s 8ms/step - loss: 0.0295 - accuracy: 0.9875 - f1_score: 0.9548 - val_loss: 0.1958 - val_accuracy: 0.9611 - val_f1_score: 0.8588\n",
      "Epoch 46/100\n",
      "23/23 [==============================] - 0s 8ms/step - loss: 0.0265 - accuracy: 0.9875 - f1_score: 0.9540 - val_loss: 0.2272 - val_accuracy: 0.9556 - val_f1_score: 0.8426\n",
      "Epoch 47/100\n",
      "23/23 [==============================] - 0s 8ms/step - loss: 0.0266 - accuracy: 0.9875 - f1_score: 0.9548 - val_loss: 0.1746 - val_accuracy: 0.9556 - val_f1_score: 0.8426\n",
      "Epoch 48/100\n",
      "23/23 [==============================] - 0s 8ms/step - loss: 0.0238 - accuracy: 0.9889 - f1_score: 0.9579 - val_loss: 0.1522 - val_accuracy: 0.9667 - val_f1_score: 0.8937\n",
      "Epoch 49/100\n",
      "23/23 [==============================] - 0s 8ms/step - loss: 0.0230 - accuracy: 0.9861 - f1_score: 0.9494 - val_loss: 0.2149 - val_accuracy: 0.9556 - val_f1_score: 0.8426\n",
      "Epoch 50/100\n",
      "23/23 [==============================] - 0s 8ms/step - loss: 0.0245 - accuracy: 0.9903 - f1_score: 0.9661 - val_loss: 0.1878 - val_accuracy: 0.9556 - val_f1_score: 0.8426\n",
      "Epoch 51/100\n",
      "23/23 [==============================] - 0s 8ms/step - loss: 0.0292 - accuracy: 0.9889 - f1_score: 0.9571 - val_loss: 0.1378 - val_accuracy: 0.9667 - val_f1_score: 0.8937\n",
      "Epoch 52/100\n",
      "23/23 [==============================] - 0s 8ms/step - loss: 0.0237 - accuracy: 0.9889 - f1_score: 0.9602 - val_loss: 0.1744 - val_accuracy: 0.9500 - val_f1_score: 0.8274\n",
      "Epoch 53/100\n",
      "23/23 [==============================] - 0s 8ms/step - loss: 0.0226 - accuracy: 0.9903 - f1_score: 0.9649 - val_loss: 0.1697 - val_accuracy: 0.9611 - val_f1_score: 0.8878\n",
      "Epoch 54/100\n",
      "23/23 [==============================] - 0s 8ms/step - loss: 0.0259 - accuracy: 0.9875 - f1_score: 0.9548 - val_loss: 0.1678 - val_accuracy: 0.9667 - val_f1_score: 0.8937\n",
      "Epoch 55/100\n",
      "23/23 [==============================] - 0s 8ms/step - loss: 0.0315 - accuracy: 0.9819 - f1_score: 0.9336 - val_loss: 0.1350 - val_accuracy: 0.9556 - val_f1_score: 0.8694\n",
      "Epoch 56/100\n",
      "23/23 [==============================] - 0s 8ms/step - loss: 0.0357 - accuracy: 0.9875 - f1_score: 0.9522 - val_loss: 0.2321 - val_accuracy: 0.9556 - val_f1_score: 0.8426\n",
      "Epoch 57/100\n",
      "23/23 [==============================] - 0s 8ms/step - loss: 0.0277 - accuracy: 0.9875 - f1_score: 0.9540 - val_loss: 0.1398 - val_accuracy: 0.9611 - val_f1_score: 0.8775\n",
      "Epoch 58/100\n",
      "23/23 [==============================] - 0s 8ms/step - loss: 0.0229 - accuracy: 0.9889 - f1_score: 0.9602 - val_loss: 0.1664 - val_accuracy: 0.9500 - val_f1_score: 0.8367\n",
      "Epoch 59/100\n",
      "23/23 [==============================] - 0s 8ms/step - loss: 0.0225 - accuracy: 0.9903 - f1_score: 0.9642 - val_loss: 0.1562 - val_accuracy: 0.9667 - val_f1_score: 0.8937\n",
      "Epoch 60/100\n",
      "23/23 [==============================] - 0s 8ms/step - loss: 0.0238 - accuracy: 0.9889 - f1_score: 0.9587 - val_loss: 0.1872 - val_accuracy: 0.9500 - val_f1_score: 0.8367\n",
      "Epoch 61/100\n",
      "23/23 [==============================] - 0s 8ms/step - loss: 0.0253 - accuracy: 0.9889 - f1_score: 0.9595 - val_loss: 0.1693 - val_accuracy: 0.9556 - val_f1_score: 0.8715\n",
      "Epoch 62/100\n",
      "23/23 [==============================] - 0s 7ms/step - loss: 0.0219 - accuracy: 0.9875 - f1_score: 0.9522 - val_loss: 0.1759 - val_accuracy: 0.9500 - val_f1_score: 0.8274\n",
      "Epoch 63/100\n",
      "23/23 [==============================] - 0s 8ms/step - loss: 0.0245 - accuracy: 0.9875 - f1_score: 0.9556 - val_loss: 0.1585 - val_accuracy: 0.9611 - val_f1_score: 0.8775\n",
      "Epoch 64/100\n",
      "23/23 [==============================] - 0s 8ms/step - loss: 0.0274 - accuracy: 0.9889 - f1_score: 0.9579 - val_loss: 0.2320 - val_accuracy: 0.9500 - val_f1_score: 0.8367\n",
      "Epoch 65/100\n",
      "23/23 [==============================] - 0s 8ms/step - loss: 0.0231 - accuracy: 0.9903 - f1_score: 0.9642 - val_loss: 0.1624 - val_accuracy: 0.9556 - val_f1_score: 0.8715\n",
      "Epoch 66/100\n",
      "23/23 [==============================] - 0s 8ms/step - loss: 0.0239 - accuracy: 0.9861 - f1_score: 0.9494 - val_loss: 0.2290 - val_accuracy: 0.9500 - val_f1_score: 0.8367\n",
      "Epoch 67/100\n",
      "23/23 [==============================] - 0s 8ms/step - loss: 0.0261 - accuracy: 0.9875 - f1_score: 0.9522 - val_loss: 0.2325 - val_accuracy: 0.9500 - val_f1_score: 0.8367\n",
      "Epoch 68/100\n",
      "23/23 [==============================] - 0s 8ms/step - loss: 0.0245 - accuracy: 0.9889 - f1_score: 0.9602 - val_loss: 0.1792 - val_accuracy: 0.9556 - val_f1_score: 0.8715\n",
      "Epoch 69/100\n",
      "23/23 [==============================] - 0s 8ms/step - loss: 0.0231 - accuracy: 0.9903 - f1_score: 0.9628 - val_loss: 0.1909 - val_accuracy: 0.9500 - val_f1_score: 0.8274\n",
      "Epoch 70/100\n",
      "23/23 [==============================] - 0s 8ms/step - loss: 0.0261 - accuracy: 0.9889 - f1_score: 0.9602 - val_loss: 0.2118 - val_accuracy: 0.9500 - val_f1_score: 0.8367\n",
      "Epoch 71/100\n",
      "23/23 [==============================] - 0s 8ms/step - loss: 0.0229 - accuracy: 0.9875 - f1_score: 0.9548 - val_loss: 0.1906 - val_accuracy: 0.9556 - val_f1_score: 0.8715\n",
      "Epoch 72/100\n",
      "23/23 [==============================] - 0s 8ms/step - loss: 0.0208 - accuracy: 0.9861 - f1_score: 0.9474 - val_loss: 0.1897 - val_accuracy: 0.9500 - val_f1_score: 0.8367\n",
      "Epoch 73/100\n",
      "23/23 [==============================] - 0s 8ms/step - loss: 0.0209 - accuracy: 0.9875 - f1_score: 0.9531 - val_loss: 0.1991 - val_accuracy: 0.9500 - val_f1_score: 0.8367\n",
      "Epoch 74/100\n",
      "23/23 [==============================] - 0s 8ms/step - loss: 0.0213 - accuracy: 0.9903 - f1_score: 0.9655 - val_loss: 0.2303 - val_accuracy: 0.9500 - val_f1_score: 0.8367\n",
      "Epoch 75/100\n",
      "23/23 [==============================] - 0s 7ms/step - loss: 0.0210 - accuracy: 0.9889 - f1_score: 0.9595 - val_loss: 0.2286 - val_accuracy: 0.9444 - val_f1_score: 0.8214\n",
      "Epoch 76/100\n",
      "23/23 [==============================] - 0s 8ms/step - loss: 0.0217 - accuracy: 0.9861 - f1_score: 0.9503 - val_loss: 0.2197 - val_accuracy: 0.9500 - val_f1_score: 0.8367\n",
      "Epoch 77/100\n",
      "23/23 [==============================] - 0s 8ms/step - loss: 0.0239 - accuracy: 0.9861 - f1_score: 0.9484 - val_loss: 0.2168 - val_accuracy: 0.9444 - val_f1_score: 0.8214\n",
      "Epoch 78/100\n",
      "23/23 [==============================] - 0s 7ms/step - loss: 0.0225 - accuracy: 0.9875 - f1_score: 0.9548 - val_loss: 0.2452 - val_accuracy: 0.9500 - val_f1_score: 0.8367\n",
      "Epoch 79/100\n",
      "23/23 [==============================] - 0s 8ms/step - loss: 0.0215 - accuracy: 0.9875 - f1_score: 0.9540 - val_loss: 0.2160 - val_accuracy: 0.9444 - val_f1_score: 0.8214\n",
      "Epoch 80/100\n",
      "23/23 [==============================] - 0s 8ms/step - loss: 0.0205 - accuracy: 0.9889 - f1_score: 0.9579 - val_loss: 0.2156 - val_accuracy: 0.9444 - val_f1_score: 0.8214\n",
      "Epoch 81/100\n",
      "23/23 [==============================] - 0s 8ms/step - loss: 0.0204 - accuracy: 0.9875 - f1_score: 0.9556 - val_loss: 0.1989 - val_accuracy: 0.9611 - val_f1_score: 0.8775\n",
      "Epoch 82/100\n",
      "23/23 [==============================] - 0s 8ms/step - loss: 0.0242 - accuracy: 0.9889 - f1_score: 0.9587 - val_loss: 0.1900 - val_accuracy: 0.9500 - val_f1_score: 0.8274\n",
      "Epoch 83/100\n",
      "23/23 [==============================] - 0s 7ms/step - loss: 0.0237 - accuracy: 0.9903 - f1_score: 0.9642 - val_loss: 0.3372 - val_accuracy: 0.9500 - val_f1_score: 0.8367\n",
      "Epoch 84/100\n",
      "23/23 [==============================] - 0s 8ms/step - loss: 0.0236 - accuracy: 0.9903 - f1_score: 0.9649 - val_loss: 0.2160 - val_accuracy: 0.9611 - val_f1_score: 0.8878\n",
      "Epoch 85/100\n",
      "23/23 [==============================] - 0s 8ms/step - loss: 0.0264 - accuracy: 0.9875 - f1_score: 0.9574 - val_loss: 0.3280 - val_accuracy: 0.9444 - val_f1_score: 0.8296\n",
      "Epoch 86/100\n",
      "23/23 [==============================] - 0s 8ms/step - loss: 0.0396 - accuracy: 0.9833 - f1_score: 0.9509 - val_loss: 0.2090 - val_accuracy: 0.9500 - val_f1_score: 0.8357\n",
      "Epoch 87/100\n",
      "23/23 [==============================] - 0s 8ms/step - loss: 0.0304 - accuracy: 0.9847 - f1_score: 0.9480 - val_loss: 0.1521 - val_accuracy: 0.9611 - val_f1_score: 0.8674\n",
      "Epoch 88/100\n",
      "23/23 [==============================] - 0s 8ms/step - loss: 0.0295 - accuracy: 0.9875 - f1_score: 0.9556 - val_loss: 0.1292 - val_accuracy: 0.9722 - val_f1_score: 0.8990\n",
      "Epoch 89/100\n",
      "23/23 [==============================] - 0s 8ms/step - loss: 0.0265 - accuracy: 0.9861 - f1_score: 0.9484 - val_loss: 0.1510 - val_accuracy: 0.9611 - val_f1_score: 0.8477\n",
      "Epoch 90/100\n",
      "23/23 [==============================] - 0s 7ms/step - loss: 0.0229 - accuracy: 0.9847 - f1_score: 0.9458 - val_loss: 0.1683 - val_accuracy: 0.9611 - val_f1_score: 0.8477\n",
      "Epoch 91/100\n",
      "23/23 [==============================] - 0s 8ms/step - loss: 0.0231 - accuracy: 0.9903 - f1_score: 0.9628 - val_loss: 0.1377 - val_accuracy: 0.9667 - val_f1_score: 0.8828\n",
      "Epoch 92/100\n",
      "23/23 [==============================] - 0s 8ms/step - loss: 0.0222 - accuracy: 0.9903 - f1_score: 0.9661 - val_loss: 0.2145 - val_accuracy: 0.9611 - val_f1_score: 0.8477\n",
      "Epoch 93/100\n",
      "23/23 [==============================] - 0s 8ms/step - loss: 0.0228 - accuracy: 0.9889 - f1_score: 0.9587 - val_loss: 0.1431 - val_accuracy: 0.9556 - val_f1_score: 0.8325\n",
      "Epoch 94/100\n",
      "23/23 [==============================] - 0s 8ms/step - loss: 0.0216 - accuracy: 0.9889 - f1_score: 0.9595 - val_loss: 0.1757 - val_accuracy: 0.9611 - val_f1_score: 0.8477\n",
      "Epoch 95/100\n",
      "23/23 [==============================] - 0s 8ms/step - loss: 0.0216 - accuracy: 0.9875 - f1_score: 0.9531 - val_loss: 0.1575 - val_accuracy: 0.9611 - val_f1_score: 0.8477\n",
      "Epoch 96/100\n",
      "23/23 [==============================] - 0s 8ms/step - loss: 0.0202 - accuracy: 0.9889 - f1_score: 0.9595 - val_loss: 0.1701 - val_accuracy: 0.9611 - val_f1_score: 0.8477\n",
      "Epoch 97/100\n",
      "23/23 [==============================] - 0s 8ms/step - loss: 0.0212 - accuracy: 0.9861 - f1_score: 0.9484 - val_loss: 0.1382 - val_accuracy: 0.9667 - val_f1_score: 0.8828\n",
      "Epoch 98/100\n",
      "23/23 [==============================] - 0s 8ms/step - loss: 0.0221 - accuracy: 0.9889 - f1_score: 0.9571 - val_loss: 0.2002 - val_accuracy: 0.9556 - val_f1_score: 0.8325\n",
      "Epoch 99/100\n",
      "23/23 [==============================] - 0s 8ms/step - loss: 0.0235 - accuracy: 0.9903 - f1_score: 0.9655 - val_loss: 0.1691 - val_accuracy: 0.9611 - val_f1_score: 0.8477\n",
      "Epoch 100/100\n",
      "23/23 [==============================] - 0s 8ms/step - loss: 0.0200 - accuracy: 0.9889 - f1_score: 0.9595 - val_loss: 0.1396 - val_accuracy: 0.9556 - val_f1_score: 0.8325\n",
      "Evaluation of the model: \n",
      "6/6 [==============================] - 0s 5ms/step - loss: 0.1396 - accuracy: 0.9556 - f1_score: 0.8325\n",
      "F1 Scores for each category: [array([1.       , 0.8974359, 0.6      ], dtype=float32)]\n"
     ]
    },
    {
     "output_type": "execute_result",
     "data": {
      "text/plain": [
       "<matplotlib.legend.Legend at 0x7bb6123975b0>"
      ]
     },
     "metadata": {},
     "execution_count": 20
    },
    {
     "output_type": "display_data",
     "data": {
      "text/plain": [
       "<Figure size 1200x600 with 1 Axes>"
      ],
      "image/png": "[encoded data removed]"
     },
     "metadata": {}
    }
   ],
   "source": [
    "# Train the model\n",
    "history = best_model.fit(X_train, y_train, epochs=100, batch_size=32, validation_data=(X_test, y_test))\n",
    "\n",
    "# Evaluate the model\n",
    "print(f\"Evaluation of the model: \")\n",
    "scores = best_model.evaluate(X_test, y_test)\n",
    "\n",
    "# Access the F1 score for each category\n",
    "f1_scores = scores[2:]  # Assuming they are the third metric onwards\n",
    "print(f\"F1 Scores for each category: {f1_scores}\")\n",
    "\n",
    "# Plot Training vs Validation Loss\n",
    "plt.figure(figsize=(12, 6))\n",
    "plt.subplot(1, 2, 1)\n",
    "plt.plot(history.history['loss'], label='Training Loss')\n",
    "plt.plot(history.history['val_loss'], label='Validation Loss')\n",
    "plt.title('Training vs Validation Loss')\n",
    "plt.xlabel('Epochs')\n",
    "plt.ylabel('Loss')\n",
    "plt.legend()"
   ]
  }
 ],
 "metadata": {
  "accelerator": "GPU",
  "colab": {
   "machine_shape": "hm",
   "provenance": [],
   "gpuType": "T4",
   "include_colab_link": true
  },
  "kernelspec": {
   "display_name": "Python 3",
   "name": "python3"
  },
  "language_info": {
   "name": "python"
  }
 },
 "nbformat": 4,
 "nbformat_minor": 0
}