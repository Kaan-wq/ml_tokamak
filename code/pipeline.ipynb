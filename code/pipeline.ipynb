{
 "cells": [
  {
   "cell_type": "code",
   "execution_count": null,
   "metadata": {},
   "outputs": [],
   "source": [
    "import math\n",
    "import pandas as pd\n",
    "import matplotlib.pyplot as plt\n",
    "from mpl_toolkits.mplot3d import Axes3D\n",
    "import matplotlib.patches as mpatches\n",
    "import os\n",
    "import glob\n",
    "import numpy as np\n",
    "from typing import Iterable\n",
    "import pickle\n",
    "import tensorflow as tf\n",
    "from scipy.fft import fft, ifft\n",
    "from statsmodels.tsa.stattools import acf, pacf\n",
    "from sklearn.decomposition import PCA\n",
    "\n",
    "import keras\n",
    "import keras_tuner as kt\n",
    "from kerastuner import RandomSearch\n",
    "import tensorflow_addons as tfa\n",
    "from sklearn.model_selection import train_test_split\n",
    "from sklearn.preprocessing import StandardScaler\n",
    "from tensorflow.keras.utils import to_categorical\n",
    "from tensorflow.keras.models import Sequential\n",
    "from tensorflow.keras.layers import Dense\n",
    "from tensorflow.keras import layers\n",
    "from tensorflow.keras import regularizers"
   ]
  },
  {
   "cell_type": "code",
   "execution_count": null,
   "metadata": {},
   "outputs": [],
   "source": [
    "# load a single shot using pandas parquet file reader \n",
    "def load_shot(shotnum: int) -> pd.DataFrame:\n",
    "    shot = pd.read_parquet(\"../data/DISR_data/JET_DATAno\" + str(shotnum) + \".parquet\")\n",
    "    return shot\n",
    "\n",
    "df_shot = load_shot(96885)\n",
    "df_shot['IPE'] = df_shot['IPLA'] - df_shot['IPref']\n",
    "display(df_shot)"
   ]
  },
  {
   "cell_type": "code",
   "execution_count": null,
   "metadata": {},
   "outputs": [],
   "source": [
    "model = tf.keras.models.load_model(\"../models/nn_window.keras\")\n",
    "\n",
    "window = 0\n",
    "\n",
    "# Add 'Instability' and 'Window' attributes to the DataFrame\n",
    "df_shot['Instability'] = 0\n",
    "df_shot['Window'] = window\n",
    "df_shot['Label'] = -1\n",
    "\n",
    "# Define the window size and the number of samples with the same label required\n",
    "window_size = 20\n",
    "window_cursor_one = 0\n",
    "window_cursor_two = window_size - 1\n",
    "label_count = 15\n",
    "\n",
    "# Iterate over the samples in the DataFrame\n",
    "for i in range(len(df_shot)):\n",
    "    # Get the current sample\n",
    "    sample = df_shot.iloc[i]\n",
    "    \n",
    "    # Perform the prediction using the Keras model\n",
    "    prediction = model.predict(np.array([sample]))[0]\n",
    "    label = np.argmax(prediction)\n",
    "\n",
    "    df_shot.loc[i, 'Label'] = label\n",
    "\n",
    "    max_label = df_shot['Label'].iloc[window_cursor_one : window_cursor_two].value_counts().max()\n",
    "    \n",
    "    # Check if there are enough samples with the same label in the window\n",
    "    if max_label >= label_count and max_label != -1:\n",
    "        window += 1\n",
    "        # Set the window attribute for the samples inside the window\n",
    "        df_shot.loc[window_cursor_one : window_cursor_two, 'Window'] = window\n",
    "        \n",
    "        # Move the window to the next 20 samples\n",
    "        window_cursor_one += window_size\n",
    "        window_cursor_two += window_size\n",
    "\n",
    "        # Check if the label is 1\n",
    "        if label == 1:\n",
    "            # Increase the instability by 1 for all following samples\n",
    "            df_shot.loc[i + 1:, 'Instability'] += 1\n",
    "\n",
    "    elif i == window_cursor_two:\n",
    "        # Move the window to the next samples\n",
    "        window_cursor_one += 1\n",
    "        window_cursor_two += 1\n",
    "\n",
    "# Display the updated DataFrame\n",
    "display(df_shot)\n"
   ]
  },
  {
   "cell_type": "code",
   "execution_count": null,
   "metadata": {},
   "outputs": [],
   "source": [
    "# Retrieve the unique window values different than 0 and where the label is equal to 1\n",
    "window = df_shot[(df_shot['Window'] != 0) & (df_shot['Label'] == 1)]['Window'].unique()\n",
    "\n",
    "# Print the dataframe window per window\n",
    "display(df_shot[df_shot['Window'] == window[0]])"
   ]
  }
 ],
 "metadata": {
  "kernelspec": {
   "display_name": "venv",
   "language": "python",
   "name": "python3"
  },
  "language_info": {
   "codemirror_mode": {
    "name": "ipython",
    "version": 3
   },
   "file_extension": ".py",
   "mimetype": "text/x-python",
   "name": "python",
   "nbconvert_exporter": "python",
   "pygments_lexer": "ipython3",
   "version": "3.10.0"
  }
 },
 "nbformat": 4,
 "nbformat_minor": 2
}
